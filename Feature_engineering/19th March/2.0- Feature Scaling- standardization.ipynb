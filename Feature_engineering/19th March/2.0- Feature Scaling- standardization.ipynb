{
 "cells": [
  {
   "attachments": {},
   "cell_type": "markdown",
   "id": "85a709b6-f41b-45e0-81a5-f8cc840e43e9",
   "metadata": {},
   "source": [
    "## Standardization"
   ]
  },
  {
   "cell_type": "code",
   "execution_count": 1,
   "id": "3e52e6af-3e23-4524-87e8-ae13539e41db",
   "metadata": {},
   "outputs": [],
   "source": [
    "import seaborn as sns"
   ]
  },
  {
   "cell_type": "code",
   "execution_count": 2,
   "id": "d9fb9a08-db5c-43e0-b8fa-a243ca6f0075",
   "metadata": {},
   "outputs": [],
   "source": [
    "df=sns.load_dataset('tips')"
   ]
  },
  {
   "cell_type": "code",
   "execution_count": 3,
   "id": "cdffd999-1b43-4a8f-a9a7-025c8e19bc79",
   "metadata": {},
   "outputs": [
    {
     "data": {
      "text/html": [
       "<div>\n",
       "<style scoped>\n",
       "    .dataframe tbody tr th:only-of-type {\n",
       "        vertical-align: middle;\n",
       "    }\n",
       "\n",
       "    .dataframe tbody tr th {\n",
       "        vertical-align: top;\n",
       "    }\n",
       "\n",
       "    .dataframe thead th {\n",
       "        text-align: right;\n",
       "    }\n",
       "</style>\n",
       "<table border=\"1\" class=\"dataframe\">\n",
       "  <thead>\n",
       "    <tr style=\"text-align: right;\">\n",
       "      <th></th>\n",
       "      <th>total_bill</th>\n",
       "      <th>tip</th>\n",
       "      <th>sex</th>\n",
       "      <th>smoker</th>\n",
       "      <th>day</th>\n",
       "      <th>time</th>\n",
       "      <th>size</th>\n",
       "    </tr>\n",
       "  </thead>\n",
       "  <tbody>\n",
       "    <tr>\n",
       "      <th>0</th>\n",
       "      <td>16.99</td>\n",
       "      <td>1.01</td>\n",
       "      <td>Female</td>\n",
       "      <td>No</td>\n",
       "      <td>Sun</td>\n",
       "      <td>Dinner</td>\n",
       "      <td>2</td>\n",
       "    </tr>\n",
       "    <tr>\n",
       "      <th>1</th>\n",
       "      <td>10.34</td>\n",
       "      <td>1.66</td>\n",
       "      <td>Male</td>\n",
       "      <td>No</td>\n",
       "      <td>Sun</td>\n",
       "      <td>Dinner</td>\n",
       "      <td>3</td>\n",
       "    </tr>\n",
       "    <tr>\n",
       "      <th>2</th>\n",
       "      <td>21.01</td>\n",
       "      <td>3.50</td>\n",
       "      <td>Male</td>\n",
       "      <td>No</td>\n",
       "      <td>Sun</td>\n",
       "      <td>Dinner</td>\n",
       "      <td>3</td>\n",
       "    </tr>\n",
       "    <tr>\n",
       "      <th>3</th>\n",
       "      <td>23.68</td>\n",
       "      <td>3.31</td>\n",
       "      <td>Male</td>\n",
       "      <td>No</td>\n",
       "      <td>Sun</td>\n",
       "      <td>Dinner</td>\n",
       "      <td>2</td>\n",
       "    </tr>\n",
       "    <tr>\n",
       "      <th>4</th>\n",
       "      <td>24.59</td>\n",
       "      <td>3.61</td>\n",
       "      <td>Female</td>\n",
       "      <td>No</td>\n",
       "      <td>Sun</td>\n",
       "      <td>Dinner</td>\n",
       "      <td>4</td>\n",
       "    </tr>\n",
       "  </tbody>\n",
       "</table>\n",
       "</div>"
      ],
      "text/plain": [
       "   total_bill   tip     sex smoker  day    time  size\n",
       "0       16.99  1.01  Female     No  Sun  Dinner     2\n",
       "1       10.34  1.66    Male     No  Sun  Dinner     3\n",
       "2       21.01  3.50    Male     No  Sun  Dinner     3\n",
       "3       23.68  3.31    Male     No  Sun  Dinner     2\n",
       "4       24.59  3.61  Female     No  Sun  Dinner     4"
      ]
     },
     "execution_count": 3,
     "metadata": {},
     "output_type": "execute_result"
    }
   ],
   "source": [
    "df.head()"
   ]
  },
  {
   "cell_type": "code",
   "execution_count": 4,
   "id": "82fd8c0a-4269-4cde-ae70-75419e463fb3",
   "metadata": {},
   "outputs": [],
   "source": [
    "total_bill=list(df['total_bill'])"
   ]
  },
  {
   "cell_type": "code",
   "execution_count": 5,
   "id": "ad00723e-421b-4a38-b538-69f265d2422d",
   "metadata": {},
   "outputs": [
    {
     "data": {
      "text/plain": [
       "[16.99,\n",
       " 10.34,\n",
       " 21.01,\n",
       " 23.68,\n",
       " 24.59,\n",
       " 25.29,\n",
       " 8.77,\n",
       " 26.88,\n",
       " 15.04,\n",
       " 14.78,\n",
       " 10.27,\n",
       " 35.26,\n",
       " 15.42,\n",
       " 18.43,\n",
       " 14.83,\n",
       " 21.58,\n",
       " 10.33,\n",
       " 16.29,\n",
       " 16.97,\n",
       " 20.65,\n",
       " 17.92,\n",
       " 20.29,\n",
       " 15.77,\n",
       " 39.42,\n",
       " 19.82,\n",
       " 17.81,\n",
       " 13.37,\n",
       " 12.69,\n",
       " 21.7,\n",
       " 19.65,\n",
       " 9.55,\n",
       " 18.35,\n",
       " 15.06,\n",
       " 20.69,\n",
       " 17.78,\n",
       " 24.06,\n",
       " 16.31,\n",
       " 16.93,\n",
       " 18.69,\n",
       " 31.27,\n",
       " 16.04,\n",
       " 17.46,\n",
       " 13.94,\n",
       " 9.68,\n",
       " 30.4,\n",
       " 18.29,\n",
       " 22.23,\n",
       " 32.4,\n",
       " 28.55,\n",
       " 18.04,\n",
       " 12.54,\n",
       " 10.29,\n",
       " 34.81,\n",
       " 9.94,\n",
       " 25.56,\n",
       " 19.49,\n",
       " 38.01,\n",
       " 26.41,\n",
       " 11.24,\n",
       " 48.27,\n",
       " 20.29,\n",
       " 13.81,\n",
       " 11.02,\n",
       " 18.29,\n",
       " 17.59,\n",
       " 20.08,\n",
       " 16.45,\n",
       " 3.07,\n",
       " 20.23,\n",
       " 15.01,\n",
       " 12.02,\n",
       " 17.07,\n",
       " 26.86,\n",
       " 25.28,\n",
       " 14.73,\n",
       " 10.51,\n",
       " 17.92,\n",
       " 27.2,\n",
       " 22.76,\n",
       " 17.29,\n",
       " 19.44,\n",
       " 16.66,\n",
       " 10.07,\n",
       " 32.68,\n",
       " 15.98,\n",
       " 34.83,\n",
       " 13.03,\n",
       " 18.28,\n",
       " 24.71,\n",
       " 21.16,\n",
       " 28.97,\n",
       " 22.49,\n",
       " 5.75,\n",
       " 16.32,\n",
       " 22.75,\n",
       " 40.17,\n",
       " 27.28,\n",
       " 12.03,\n",
       " 21.01,\n",
       " 12.46,\n",
       " 11.35,\n",
       " 15.38,\n",
       " 44.3,\n",
       " 22.42,\n",
       " 20.92,\n",
       " 15.36,\n",
       " 20.49,\n",
       " 25.21,\n",
       " 18.24,\n",
       " 14.31,\n",
       " 14.0,\n",
       " 7.25,\n",
       " 38.07,\n",
       " 23.95,\n",
       " 25.71,\n",
       " 17.31,\n",
       " 29.93,\n",
       " 10.65,\n",
       " 12.43,\n",
       " 24.08,\n",
       " 11.69,\n",
       " 13.42,\n",
       " 14.26,\n",
       " 15.95,\n",
       " 12.48,\n",
       " 29.8,\n",
       " 8.52,\n",
       " 14.52,\n",
       " 11.38,\n",
       " 22.82,\n",
       " 19.08,\n",
       " 20.27,\n",
       " 11.17,\n",
       " 12.26,\n",
       " 18.26,\n",
       " 8.51,\n",
       " 10.33,\n",
       " 14.15,\n",
       " 16.0,\n",
       " 13.16,\n",
       " 17.47,\n",
       " 34.3,\n",
       " 41.19,\n",
       " 27.05,\n",
       " 16.43,\n",
       " 8.35,\n",
       " 18.64,\n",
       " 11.87,\n",
       " 9.78,\n",
       " 7.51,\n",
       " 14.07,\n",
       " 13.13,\n",
       " 17.26,\n",
       " 24.55,\n",
       " 19.77,\n",
       " 29.85,\n",
       " 48.17,\n",
       " 25.0,\n",
       " 13.39,\n",
       " 16.49,\n",
       " 21.5,\n",
       " 12.66,\n",
       " 16.21,\n",
       " 13.81,\n",
       " 17.51,\n",
       " 24.52,\n",
       " 20.76,\n",
       " 31.71,\n",
       " 10.59,\n",
       " 10.63,\n",
       " 50.81,\n",
       " 15.81,\n",
       " 7.25,\n",
       " 31.85,\n",
       " 16.82,\n",
       " 32.9,\n",
       " 17.89,\n",
       " 14.48,\n",
       " 9.6,\n",
       " 34.63,\n",
       " 34.65,\n",
       " 23.33,\n",
       " 45.35,\n",
       " 23.17,\n",
       " 40.55,\n",
       " 20.69,\n",
       " 20.9,\n",
       " 30.46,\n",
       " 18.15,\n",
       " 23.1,\n",
       " 15.69,\n",
       " 19.81,\n",
       " 28.44,\n",
       " 15.48,\n",
       " 16.58,\n",
       " 7.56,\n",
       " 10.34,\n",
       " 43.11,\n",
       " 13.0,\n",
       " 13.51,\n",
       " 18.71,\n",
       " 12.74,\n",
       " 13.0,\n",
       " 16.4,\n",
       " 20.53,\n",
       " 16.47,\n",
       " 26.59,\n",
       " 38.73,\n",
       " 24.27,\n",
       " 12.76,\n",
       " 30.06,\n",
       " 25.89,\n",
       " 48.33,\n",
       " 13.27,\n",
       " 28.17,\n",
       " 12.9,\n",
       " 28.15,\n",
       " 11.59,\n",
       " 7.74,\n",
       " 30.14,\n",
       " 12.16,\n",
       " 13.42,\n",
       " 8.58,\n",
       " 15.98,\n",
       " 13.42,\n",
       " 16.27,\n",
       " 10.09,\n",
       " 20.45,\n",
       " 13.28,\n",
       " 22.12,\n",
       " 24.01,\n",
       " 15.69,\n",
       " 11.61,\n",
       " 10.77,\n",
       " 15.53,\n",
       " 10.07,\n",
       " 12.6,\n",
       " 32.83,\n",
       " 35.83,\n",
       " 29.03,\n",
       " 27.18,\n",
       " 22.67,\n",
       " 17.82,\n",
       " 18.78]"
      ]
     },
     "execution_count": 5,
     "metadata": {},
     "output_type": "execute_result"
    }
   ],
   "source": [
    "total_bill"
   ]
  },
  {
   "cell_type": "code",
   "execution_count": 6,
   "id": "d8645321-5340-478c-a1fb-4384d2712762",
   "metadata": {},
   "outputs": [
    {
     "data": {
      "text/plain": [
       "<AxesSubplot:ylabel='Count'>"
      ]
     },
     "execution_count": 6,
     "metadata": {},
     "output_type": "execute_result"
    },
    {
     "data": {
      "image/png": "[encoded data removed]",
      "text/plain": [
       "<Figure size 432x288 with 1 Axes>"
      ]
     },
     "metadata": {
      "needs_background": "light"
     },
     "output_type": "display_data"
    }
   ],
   "source": [
    "sns.histplot(total_bill)"
   ]
  },
  {
   "cell_type": "code",
   "execution_count": 7,
   "id": "84d2b5d7-ed20-44ff-a2aa-9ab972dea832",
   "metadata": {},
   "outputs": [],
   "source": [
    "import numpy as np\n",
    "mean=np.mean(total_bill)\n",
    "std=np.std(total_bill)"
   ]
  },
  {
   "cell_type": "code",
   "execution_count": 8,
   "id": "a8574697-65fb-4902-89f0-c34c123c520a",
   "metadata": {},
   "outputs": [
    {
     "data": {
      "text/plain": [
       "(19.78594262295082, 8.884150577771132)"
      ]
     },
     "execution_count": 8,
     "metadata": {},
     "output_type": "execute_result"
    }
   ],
   "source": [
    "mean,std"
   ]
  },
  {
   "cell_type": "code",
   "execution_count": 9,
   "id": "becc4301-b3d9-41c3-b236-eb7ab88f03e6",
   "metadata": {},
   "outputs": [
    {
     "name": "stdout",
     "output_type": "stream",
     "text": [
      "[-0.3147113050904943, -1.0632353132988692, 0.13777989987156145, 0.43831510316725475, 0.540744704290506, 0.6195367051545455, -1.2399545152367863, 0.7985071071171495, -0.5342033074974614, -0.5634689078183903, -1.0711145133852733, 1.7417599174609364, -0.49143050702841123, -0.15262490331304146, -0.557840907756673, 0.2019391005751361, -1.0643609133112126, -0.3935033059545337, -0.31696250511518104, 0.09725829942719795, -0.2100305039425557, 0.05673669898283484, -0.45203450659639155, 2.2100095225958003, 0.003833498402694168, -0.2224121040783337, -0.7221785095588127, -0.7987193103981653, 0.21544630072325727, -0.015301701807144186, -1.1521577142739994, -0.16162970341178864, -0.5319521074727743, 0.10176069947657193, -0.22578890411536368, 0.4810879036363046, -0.3912521059298469, -0.32146490516455467, -0.12335930299211233, 1.2926455125359115, -0.4216433062631192, -0.2618081045103532, -0.6580193088552376, -1.137524914113535, 1.1947183114620337, -0.16838330348584943, 0.2751031013774587, 1.419838313930718, 0.986482309178501, -0.19652330379443494, -0.8156033105833167, -1.0688633133605865, 1.691107916905483, -1.1082593137926062, 0.6499279054878179, -0.03331130200463894, 2.051299920855377, 0.7456039065370088, -0.9619313121879614, 3.206165533519728, 0.05673669898283484, -0.672652109015702, -0.9866945124595167, -0.16838330348584943, -0.24717530434988882, 0.0330990987236229, -0.37549370575703894, -1.8815465222725365, 0.049983098908774455, -0.5375801075344916, -0.8741345112251745, -0.3057065049917467, 0.7962559070924626, 0.6184111051422023, -0.5690969078801073, -1.044100113089031, -0.2100305039425557, 0.834526307512139, 0.3347599020316602, -0.2809433047201916, -0.03893930206635573, -0.351856105497827, -1.0936265136321417, 1.451355114276334, -0.4283969063371796, 1.6933591169301694, -0.760448909978489, -0.16950890349819261, 0.5542519044386273, 0.1546639000567126, 1.0337575096969245, 0.3043687016983874, -1.5798857189644997, -0.3901265059175033, 0.3336343020193166, 2.294429523521557, 0.8435311076108866, -0.8730089112128311, 0.13777989987156145, -0.8246081106820639, -0.9495497120521837, -0.4959329070777848, 2.759302328619389, 0.29648950161198384, 0.12764949976047066, -0.49818410710247185, 0.07924869922970319, 0.6105319050557984, -0.1740113035475666, -0.616372108398531, -0.6512657087811771, -1.4110457171129864, 2.058053520929438, 0.46870630350052706, 0.6668119056729693, -0.27869210469550476, 1.141815110881893, -1.0283417129162231, -0.8279849107190942, 0.4833391036609914, -0.9112793116325074, -0.7165505094970955, -0.6220001084602481, -0.43177370637421, -0.822356910657377, 1.1271823107214287, -1.268094515545372, -0.5927345081393192, -0.9461729120151534, 0.34151350210572057, -0.07946090251071923, 0.05448549895814805, -0.9698105122743653, -0.8471201109289324, -0.1717601035228794, -1.2692201155577154, -1.0643609133112126, -0.6343817085960257, -0.4261457063124928, -0.7458161098180245, -0.26068250449801, 1.6337023162759678, 2.4092407247805854, 0.8176423073269878, -0.3777449057817257, -1.2872297157552102, -0.12898730305382952, -0.8910185114103258, -1.126268913990101, -1.3817801167920576, -0.6433865086947731, -0.7491929098550546, -0.2843201047572215, 0.5362423042411325, -0.0017945016590230187, 1.1328103107831458, 3.194909533396294, 0.5868943047965863, -0.7199273095341256, -0.3709913057076653, 0.1929343004763889, -0.8020961104351955, -0.40250810605328086, -0.672652109015702, -0.25618010444863604, 0.5328655042041021, 0.10963989956297591, 1.3421719130790222, -1.0350953129902838, -1.03059291294091, 3.492067936654957, -0.44753210654701775, -1.4110457171129864, 1.3579303132518301, -0.3338465053003322, 1.476118314547889, -0.2134073039795861, -0.5972369081886928, -1.1465297142122826, 1.6708471166833014, 1.6730983167079878, 0.39891910273523484, 2.877490329915449, 0.3809095025377405, 2.3372023239906063, 0.10176069947657193, 0.12539829973578348, 1.2014719115360946, -0.18414170365865737, 0.3730303024513365, -0.46103930669513893, 0.0027078983903505707, 0.9741007090427235, -0.4846769069543507, -0.3608609055965746, -1.3761521167303405, -1.0632353132988692, 2.6253559271505225, -0.7638257100155192, -0.7064201093860047, -0.12110810296742554, -0.7930913103364481, -0.7638257100155192, -0.3811217058187561, 0.08375109927907717, -0.3732425057323521, 0.7658647067591904, 2.1323431217441033, 0.5047255038955165, -0.7908401103117614, 1.1564479110423573, 0.6870727058951509, 3.212919133593788, -0.7334345096822469, 0.9437095087094511, -0.7750817101389533, 0.9414583086847639, -0.9225353117559416, -1.3558913165081588, 1.165452711141105, -0.8583761110523666, -0.7165505094970955, -1.2613409154713113, -0.4283969063371796, -0.7165505094970955, -0.39575450597922046, -1.0913753136074549, 0.0747462991803296, -0.7323089096699035, 0.26272150124168114, 0.47545990357458784, -0.46103930669513893, -0.9202841117312548, -1.0148345127681022, -0.4790489068926337, -1.0936265136321417, -0.8088497105092561, 1.468239114461485, 1.8059191181645116, 1.0405111097709854, 0.8322751074874521, 0.3246295019205694, -0.2212865040659901, -0.11322890288102155]\n"
     ]
    }
   ],
   "source": [
    "normalized_data=[]\n",
    "for i in total_bill:\n",
    "    z_score=(i-mean)/std ## z_score\n",
    "    normalized_data.append(z_score)\n",
    "    \n",
    "print(normalized_data)\n",
    "    \n",
    "    "
   ]
  },
  {
   "cell_type": "code",
   "execution_count": 10,
   "id": "936e8a96-890d-4a6b-8ecd-40e406aace40",
   "metadata": {},
   "outputs": [
    {
     "data": {
      "text/plain": [
       "<AxesSubplot:ylabel='Count'>"
      ]
     },
     "execution_count": 10,
     "metadata": {},
     "output_type": "execute_result"
    },
    {
     "data": {
      "image/png": "[encoded data removed]",
      "text/plain": [
       "<Figure size 432x288 with 1 Axes>"
      ]
     },
     "metadata": {
      "needs_background": "light"
     },
     "output_type": "display_data"
    }
   ],
   "source": [
    "sns.histplot(normalized_data)"
   ]
  },
  {
   "cell_type": "code",
   "execution_count": 11,
   "id": "95df0270-f10c-4231-875d-5d0ebfe8c657",
   "metadata": {},
   "outputs": [],
   "source": [
    "from sklearn.preprocessing import StandardScaler"
   ]
  },
  {
   "cell_type": "code",
   "execution_count": 12,
   "id": "025395ed-d5ee-45a3-8f9b-64f609b934d5",
   "metadata": {},
   "outputs": [
    {
     "data": {
      "text/html": [
       "<div>\n",
       "<style scoped>\n",
       "    .dataframe tbody tr th:only-of-type {\n",
       "        vertical-align: middle;\n",
       "    }\n",
       "\n",
       "    .dataframe tbody tr th {\n",
       "        vertical-align: top;\n",
       "    }\n",
       "\n",
       "    .dataframe thead th {\n",
       "        text-align: right;\n",
       "    }\n",
       "</style>\n",
       "<table border=\"1\" class=\"dataframe\">\n",
       "  <thead>\n",
       "    <tr style=\"text-align: right;\">\n",
       "      <th></th>\n",
       "      <th>total_bill</th>\n",
       "      <th>tip</th>\n",
       "      <th>sex</th>\n",
       "      <th>smoker</th>\n",
       "      <th>day</th>\n",
       "      <th>time</th>\n",
       "      <th>size</th>\n",
       "    </tr>\n",
       "  </thead>\n",
       "  <tbody>\n",
       "    <tr>\n",
       "      <th>0</th>\n",
       "      <td>16.99</td>\n",
       "      <td>1.01</td>\n",
       "      <td>Female</td>\n",
       "      <td>No</td>\n",
       "      <td>Sun</td>\n",
       "      <td>Dinner</td>\n",
       "      <td>2</td>\n",
       "    </tr>\n",
       "    <tr>\n",
       "      <th>1</th>\n",
       "      <td>10.34</td>\n",
       "      <td>1.66</td>\n",
       "      <td>Male</td>\n",
       "      <td>No</td>\n",
       "      <td>Sun</td>\n",
       "      <td>Dinner</td>\n",
       "      <td>3</td>\n",
       "    </tr>\n",
       "    <tr>\n",
       "      <th>2</th>\n",
       "      <td>21.01</td>\n",
       "      <td>3.50</td>\n",
       "      <td>Male</td>\n",
       "      <td>No</td>\n",
       "      <td>Sun</td>\n",
       "      <td>Dinner</td>\n",
       "      <td>3</td>\n",
       "    </tr>\n",
       "    <tr>\n",
       "      <th>3</th>\n",
       "      <td>23.68</td>\n",
       "      <td>3.31</td>\n",
       "      <td>Male</td>\n",
       "      <td>No</td>\n",
       "      <td>Sun</td>\n",
       "      <td>Dinner</td>\n",
       "      <td>2</td>\n",
       "    </tr>\n",
       "    <tr>\n",
       "      <th>4</th>\n",
       "      <td>24.59</td>\n",
       "      <td>3.61</td>\n",
       "      <td>Female</td>\n",
       "      <td>No</td>\n",
       "      <td>Sun</td>\n",
       "      <td>Dinner</td>\n",
       "      <td>4</td>\n",
       "    </tr>\n",
       "  </tbody>\n",
       "</table>\n",
       "</div>"
      ],
      "text/plain": [
       "   total_bill   tip     sex smoker  day    time  size\n",
       "0       16.99  1.01  Female     No  Sun  Dinner     2\n",
       "1       10.34  1.66    Male     No  Sun  Dinner     3\n",
       "2       21.01  3.50    Male     No  Sun  Dinner     3\n",
       "3       23.68  3.31    Male     No  Sun  Dinner     2\n",
       "4       24.59  3.61  Female     No  Sun  Dinner     4"
      ]
     },
     "execution_count": 12,
     "metadata": {},
     "output_type": "execute_result"
    }
   ],
   "source": [
    "df.head()"
   ]
  },
  {
   "cell_type": "code",
   "execution_count": 13,
   "id": "99aa38cc-cdee-4211-bdea-e812c3afa85f",
   "metadata": {},
   "outputs": [],
   "source": [
    "scaler=StandardScaler()"
   ]
  },
  {
   "cell_type": "code",
   "execution_count": 14,
   "id": "b2136573-0d44-4b60-9f4c-5cbf49eb8543",
   "metadata": {},
   "outputs": [
    {
     "data": {
      "text/plain": [
       "StandardScaler()"
      ]
     },
     "execution_count": 14,
     "metadata": {},
     "output_type": "execute_result"
    }
   ],
   "source": [
    "scaler"
   ]
  },
  {
   "cell_type": "code",
   "execution_count": 15,
   "id": "0be64b92-490e-4556-8a15-2278395ea7df",
   "metadata": {},
   "outputs": [
    {
     "data": {
      "text/plain": [
       "StandardScaler()"
      ]
     },
     "execution_count": 15,
     "metadata": {},
     "output_type": "execute_result"
    }
   ],
   "source": [
    "scaler.fit(df[['total_bill','tip']]) # you will get mean and std dev"
   ]
  },
  {
   "cell_type": "code",
   "execution_count": 16,
   "id": "d1118a71-6ee7-43af-abe2-f2b251a9ffd1",
   "metadata": {},
   "outputs": [
    {
     "data": {
      "text/html": [
       "<div>\n",
       "<style scoped>\n",
       "    .dataframe tbody tr th:only-of-type {\n",
       "        vertical-align: middle;\n",
       "    }\n",
       "\n",
       "    .dataframe tbody tr th {\n",
       "        vertical-align: top;\n",
       "    }\n",
       "\n",
       "    .dataframe thead th {\n",
       "        text-align: right;\n",
       "    }\n",
       "</style>\n",
       "<table border=\"1\" class=\"dataframe\">\n",
       "  <thead>\n",
       "    <tr style=\"text-align: right;\">\n",
       "      <th></th>\n",
       "      <th>total_bill</th>\n",
       "      <th>tips</th>\n",
       "    </tr>\n",
       "  </thead>\n",
       "  <tbody>\n",
       "    <tr>\n",
       "      <th>0</th>\n",
       "      <td>-0.314711</td>\n",
       "      <td>-1.439947</td>\n",
       "    </tr>\n",
       "    <tr>\n",
       "      <th>1</th>\n",
       "      <td>-1.063235</td>\n",
       "      <td>-0.969205</td>\n",
       "    </tr>\n",
       "    <tr>\n",
       "      <th>2</th>\n",
       "      <td>0.137780</td>\n",
       "      <td>0.363356</td>\n",
       "    </tr>\n",
       "    <tr>\n",
       "      <th>3</th>\n",
       "      <td>0.438315</td>\n",
       "      <td>0.225754</td>\n",
       "    </tr>\n",
       "    <tr>\n",
       "      <th>4</th>\n",
       "      <td>0.540745</td>\n",
       "      <td>0.443020</td>\n",
       "    </tr>\n",
       "    <tr>\n",
       "      <th>...</th>\n",
       "      <td>...</td>\n",
       "      <td>...</td>\n",
       "    </tr>\n",
       "    <tr>\n",
       "      <th>239</th>\n",
       "      <td>1.040511</td>\n",
       "      <td>2.115963</td>\n",
       "    </tr>\n",
       "    <tr>\n",
       "      <th>240</th>\n",
       "      <td>0.832275</td>\n",
       "      <td>-0.722971</td>\n",
       "    </tr>\n",
       "    <tr>\n",
       "      <th>241</th>\n",
       "      <td>0.324630</td>\n",
       "      <td>-0.722971</td>\n",
       "    </tr>\n",
       "    <tr>\n",
       "      <th>242</th>\n",
       "      <td>-0.221287</td>\n",
       "      <td>-0.904026</td>\n",
       "    </tr>\n",
       "    <tr>\n",
       "      <th>243</th>\n",
       "      <td>-0.113229</td>\n",
       "      <td>0.001247</td>\n",
       "    </tr>\n",
       "  </tbody>\n",
       "</table>\n",
       "<p>244 rows × 2 columns</p>\n",
       "</div>"
      ],
      "text/plain": [
       "     total_bill      tips\n",
       "0     -0.314711 -1.439947\n",
       "1     -1.063235 -0.969205\n",
       "2      0.137780  0.363356\n",
       "3      0.438315  0.225754\n",
       "4      0.540745  0.443020\n",
       "..          ...       ...\n",
       "239    1.040511  2.115963\n",
       "240    0.832275 -0.722971\n",
       "241    0.324630 -0.722971\n",
       "242   -0.221287 -0.904026\n",
       "243   -0.113229  0.001247\n",
       "\n",
       "[244 rows x 2 columns]"
      ]
     },
     "execution_count": 16,
     "metadata": {},
     "output_type": "execute_result"
    }
   ],
   "source": [
    "import pandas as pd\n",
    "pd.DataFrame(scaler.transform(df[['total_bill','tip']]),columns=['total_bill','tips']) #you will get z-score"
   ]
  },
  {
   "cell_type": "code",
   "execution_count": null,
   "id": "126fc839-2d91-46f1-a137-30f09179881b",
   "metadata": {},
   "outputs": [],
   "source": []
  }
 ],
 "metadata": {
  "kernelspec": {
   "display_name": "Python 3 (ipykernel)",
   "language": "python",
   "name": "python3"
  },
  "language_info": {
   "codemirror_mode": {
    "name": "ipython",
    "version": 3
   },
   "file_extension": ".py",
   "mimetype": "text/x-python",
   "name": "python",
   "nbconvert_exporter": "python",
   "pygments_lexer": "ipython3",
   "version": "3.9.7"
  }
 },
 "nbformat": 4,
 "nbformat_minor": 5
}
