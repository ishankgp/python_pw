{
 "cells": [
  {
   "cell_type": "code",
   "execution_count": 1,
   "id": "a29b4c2a-15ee-46d4-9a14-f13e3af25a98",
   "metadata": {
    "ExecuteTime": {
     "end_time": "2023-06-23T05:10:13.524305Z",
     "start_time": "2023-06-23T05:10:13.520867Z"
    }
   },
   "outputs": [
    {
     "name": "stdout",
     "output_type": "stream",
     "text": [
      "this is my print\n"
     ]
    }
   ],
   "source": [
    "print(\"this is my print\")"
   ]
  },
  {
   "cell_type": "code",
   "execution_count": 2,
   "id": "26b2295f-ca8d-472a-98d1-6ec049fdfd3d",
   "metadata": {
    "ExecuteTime": {
     "end_time": "2023-06-23T05:10:14.387111Z",
     "start_time": "2023-06-23T05:10:14.384247Z"
    }
   },
   "outputs": [],
   "source": [
    "l = [324,45,45,45]"
   ]
  },
  {
   "cell_type": "code",
   "execution_count": 3,
   "id": "16c612c7-23bb-44d8-abce-6231bb93c5ba",
   "metadata": {
    "ExecuteTime": {
     "end_time": "2023-06-23T05:10:15.236301Z",
     "start_time": "2023-06-23T05:10:15.226799Z"
    }
   },
   "outputs": [
    {
     "data": {
      "text/plain": [
       "4"
      ]
     },
     "execution_count": 3,
     "metadata": {},
     "output_type": "execute_result"
    }
   ],
   "source": [
    "len(l)"
   ]
  },
  {
   "cell_type": "code",
   "execution_count": 4,
   "id": "f2825443-f6a4-4fe9-aa1f-84a159bca2e2",
   "metadata": {
    "ExecuteTime": {
     "end_time": "2023-06-23T05:10:16.098877Z",
     "start_time": "2023-06-23T05:10:16.094258Z"
    }
   },
   "outputs": [
    {
     "data": {
      "text/plain": [
       "list"
      ]
     },
     "execution_count": 4,
     "metadata": {},
     "output_type": "execute_result"
    }
   ],
   "source": [
    "type(l)"
   ]
  },
  {
   "cell_type": "code",
   "execution_count": 9,
   "id": "98c5ea66-2980-4609-b8c4-ed5b30ca68f1",
   "metadata": {
    "ExecuteTime": {
     "end_time": "2023-06-23T05:10:30.647884Z",
     "start_time": "2023-06-23T05:10:30.645257Z"
    }
   },
   "outputs": [],
   "source": [
    "def test2():\n",
    "    return \"this is my very first return \" "
   ]
  },
  {
   "cell_type": "code",
   "execution_count": 10,
   "id": "41f499e7-4afe-4869-8660-ca1736af3c3a",
   "metadata": {
    "ExecuteTime": {
     "end_time": "2023-06-23T05:10:34.968092Z",
     "start_time": "2023-06-23T05:10:34.964557Z"
    }
   },
   "outputs": [
    {
     "data": {
      "text/plain": [
       "'this is my very first return '"
      ]
     },
     "execution_count": 10,
     "metadata": {},
     "output_type": "execute_result"
    }
   ],
   "source": [
    "test2()"
   ]
  },
  {
   "cell_type": "code",
   "execution_count": 12,
   "id": "44d11b35-1de0-4103-813e-7c9008fd2d48",
   "metadata": {
    "ExecuteTime": {
     "end_time": "2023-06-23T05:11:48.450502Z",
     "start_time": "2023-06-23T05:11:48.446762Z"
    }
   },
   "outputs": [
    {
     "data": {
      "text/plain": [
       "'this is my very first return sudh'"
      ]
     },
     "execution_count": 12,
     "metadata": {},
     "output_type": "execute_result"
    }
   ],
   "source": [
    "test2() + \"sudh\""
   ]
  },
  {
   "cell_type": "code",
   "execution_count": 13,
   "id": "d0e6c74c-c62e-40a9-82a6-ca22304e6432",
   "metadata": {
    "ExecuteTime": {
     "end_time": "2023-06-23T05:11:49.359916Z",
     "start_time": "2023-06-23T05:11:49.357180Z"
    }
   },
   "outputs": [],
   "source": [
    " def test3() : \n",
    "        \n",
    "        return \"sudh\" , 23, 345.56 , [1,2,3,3]"
   ]
  },
  {
   "cell_type": "code",
   "execution_count": 14,
   "id": "7b6c4caa-0177-424a-bea5-1cc63332a0bd",
   "metadata": {
    "ExecuteTime": {
     "end_time": "2023-06-23T05:11:50.145690Z",
     "start_time": "2023-06-23T05:11:50.142104Z"
    }
   },
   "outputs": [
    {
     "data": {
      "text/plain": [
       "('sudh', 23, 345.56, [1, 2, 3, 3])"
      ]
     },
     "execution_count": 14,
     "metadata": {},
     "output_type": "execute_result"
    }
   ],
   "source": [
    "test3()"
   ]
  },
  {
   "cell_type": "code",
   "execution_count": 15,
   "id": "d85cdcaf-8b56-4b6e-b4f9-f6436fc474e7",
   "metadata": {
    "ExecuteTime": {
     "end_time": "2023-06-23T05:11:51.079834Z",
     "start_time": "2023-06-23T05:11:51.077301Z"
    }
   },
   "outputs": [],
   "source": [
    "a,b,c,d = test3()"
   ]
  },
  {
   "cell_type": "code",
   "execution_count": 16,
   "id": "a171123b-58c2-48e7-bc9f-d5761aa9ac03",
   "metadata": {
    "ExecuteTime": {
     "end_time": "2023-06-23T05:11:51.738394Z",
     "start_time": "2023-06-23T05:11:51.734967Z"
    }
   },
   "outputs": [
    {
     "name": "stdout",
     "output_type": "stream",
     "text": [
      "sudh 23 345.56 [1, 2, 3, 3]\n"
     ]
    }
   ],
   "source": [
    "print(a,b,c,d)"
   ]
  },
  {
   "cell_type": "code",
   "execution_count": 17,
   "id": "b6047b3b-679e-4b05-bff7-881034cda37a",
   "metadata": {
    "ExecuteTime": {
     "end_time": "2023-06-23T05:12:47.951175Z",
     "start_time": "2023-06-23T05:12:47.948279Z"
    }
   },
   "outputs": [],
   "source": [
    "l = [1,2,3,4,\"sudh\" , \"kumar\" ,[1,2,3,4,5,6]]"
   ]
  },
  {
   "cell_type": "code",
   "execution_count": 18,
   "id": "c42dcea2-88fa-4a9d-99e1-5c21c69e1cc2",
   "metadata": {
    "ExecuteTime": {
     "end_time": "2023-06-23T05:12:48.942553Z",
     "start_time": "2023-06-23T05:12:48.939559Z"
    }
   },
   "outputs": [],
   "source": [
    "l1 = []\n",
    "for i in l :\n",
    "    if type(i) == int or type(i) == float :\n",
    "        l1.append(i)"
   ]
  },
  {
   "cell_type": "code",
   "execution_count": 19,
   "id": "5027356f-4682-4629-b40f-33eb8fbb2a5b",
   "metadata": {
    "ExecuteTime": {
     "end_time": "2023-06-23T05:12:53.857797Z",
     "start_time": "2023-06-23T05:12:53.853881Z"
    }
   },
   "outputs": [
    {
     "data": {
      "text/plain": [
       "[1, 2, 3, 4]"
      ]
     },
     "execution_count": 19,
     "metadata": {},
     "output_type": "execute_result"
    }
   ],
   "source": [
    "l1"
   ]
  },
  {
   "cell_type": "code",
   "execution_count": 20,
   "id": "07a2ede0-b867-4902-8485-93ec0c1733c8",
   "metadata": {
    "ExecuteTime": {
     "end_time": "2023-06-23T05:13:12.925528Z",
     "start_time": "2023-06-23T05:13:12.922144Z"
    }
   },
   "outputs": [],
   "source": [
    "def test7(l):\n",
    "    l1 = []\n",
    "    for i in l :\n",
    "        if type(i) == int or type(i) == float :\n",
    "            l1.append(i)\n",
    "    return l1\n",
    "    "
   ]
  },
  {
   "cell_type": "code",
   "execution_count": 37,
   "id": "0f08ea99-d742-4efb-940e-8f1ba9267e25",
   "metadata": {},
   "outputs": [
    {
     "data": {
      "text/plain": [
       "[1, 2, 3, 4]"
      ]
     },
     "execution_count": 37,
     "metadata": {},
     "output_type": "execute_result"
    }
   ],
   "source": [
    "test7(l)"
   ]
  },
  {
   "cell_type": "code",
   "execution_count": 38,
   "id": "4a60ce31-9b89-4370-ac87-db2c29617eea",
   "metadata": {},
   "outputs": [
    {
     "data": {
      "text/plain": [
       "[1, 2, 3, 4, 'sudh', 'kumar', [1, 2, 3, 4, 5, 6]]"
      ]
     },
     "execution_count": 38,
     "metadata": {},
     "output_type": "execute_result"
    }
   ],
   "source": [
    "l"
   ]
  },
  {
   "cell_type": "code",
   "execution_count": 23,
   "id": "7c28eb84-6721-4baa-b732-5ff03cc40f1a",
   "metadata": {
    "ExecuteTime": {
     "end_time": "2023-06-23T05:15:31.945201Z",
     "start_time": "2023-06-23T05:15:31.941073Z"
    }
   },
   "outputs": [],
   "source": [
    "def test8(a) :  # if elemnt is list , store indvidiual elements in l , do that if element is int or float too\n",
    "    l= []\n",
    "    for i in a :\n",
    "        if type(i) == list:\n",
    "            for j in i :\n",
    "                l.append(j)\n",
    "        else :\n",
    "            if type(i) == int or type(i) == float :\n",
    "                l.append(i)\n",
    "    return l\n",
    "            \n",
    "                \n",
    "                \n",
    "            "
   ]
  },
  {
   "cell_type": "code",
   "execution_count": 24,
   "id": "d4fb3634-adf1-44a5-b91f-9991e5886338",
   "metadata": {
    "ExecuteTime": {
     "end_time": "2023-06-23T05:15:32.462747Z",
     "start_time": "2023-06-23T05:15:32.458889Z"
    }
   },
   "outputs": [
    {
     "data": {
      "text/plain": [
       "[1, 2, 3, 4, 1, 2, 3, 4, 5, 6]"
      ]
     },
     "execution_count": 24,
     "metadata": {},
     "output_type": "execute_result"
    }
   ],
   "source": [
    "test8(l)"
   ]
  },
  {
   "cell_type": "code",
   "execution_count": 25,
   "id": "1ff6703a-f5fb-4f6d-b11f-521fd6e4f0a8",
   "metadata": {
    "ExecuteTime": {
     "end_time": "2023-06-23T05:15:33.488807Z",
     "start_time": "2023-06-23T05:15:33.484789Z"
    }
   },
   "outputs": [
    {
     "data": {
      "text/plain": [
       "[1, 2, 3, 4, 'sudh', 'kumar', [1, 2, 3, 4, 5, 6]]"
      ]
     },
     "execution_count": 25,
     "metadata": {},
     "output_type": "execute_result"
    }
   ],
   "source": [
    "l"
   ]
  },
  {
   "cell_type": "code",
   "execution_count": 27,
   "id": "21d1de1d-3a50-44e2-8ee3-856375edd12b",
   "metadata": {
    "ExecuteTime": {
     "end_time": "2023-06-23T05:15:51.180659Z",
     "start_time": "2023-06-23T05:15:51.176404Z"
    }
   },
   "outputs": [],
   "source": [
    "def test9(a) :\n",
    "    \"\"\"this is my function to extract num data from list\"\"\"\n",
    "    \n",
    "    l= []\n",
    "    for i in a :\n",
    "        if type(i) == list:\n",
    "            for j in i :\n",
    "                l.append(j)\n",
    "        else :\n",
    "            if type(i) == int or type(i) == float :\n",
    "                l.append(i)\n",
    "    return l\n",
    "            "
   ]
  },
  {
   "cell_type": "code",
   "execution_count": 29,
   "id": "b716fd5c-2ab3-4d17-b0e0-0370927da953",
   "metadata": {
    "ExecuteTime": {
     "end_time": "2023-06-23T05:16:07.937488Z",
     "start_time": "2023-06-23T05:16:07.933397Z"
    }
   },
   "outputs": [
    {
     "data": {
      "text/plain": [
       "[1, 2, 3, 4, 1, 2, 3, 4, 5, 6]"
      ]
     },
     "execution_count": 29,
     "metadata": {},
     "output_type": "execute_result"
    }
   ],
   "source": [
    "test9(l)"
   ]
  },
  {
   "cell_type": "code",
   "execution_count": 30,
   "id": "63027d0d-1a50-4e12-8c1e-7120930078ec",
   "metadata": {
    "ExecuteTime": {
     "end_time": "2023-06-23T05:16:15.301996Z",
     "start_time": "2023-06-23T05:16:15.299207Z"
    }
   },
   "outputs": [],
   "source": [
    "def test10(a,b):\n",
    "    return a+b"
   ]
  },
  {
   "cell_type": "code",
   "execution_count": 31,
   "id": "d6ae0d5d-8c41-45d8-bd94-e3f4a5d57c4f",
   "metadata": {
    "ExecuteTime": {
     "end_time": "2023-06-23T05:16:20.478611Z",
     "start_time": "2023-06-23T05:16:20.475804Z"
    }
   },
   "outputs": [],
   "source": [
    "def test11(*args):\n",
    "    return args"
   ]
  },
  {
   "cell_type": "code",
   "execution_count": 32,
   "id": "6f2b7824-c08d-43a2-bd98-fa2fbbe38122",
   "metadata": {
    "ExecuteTime": {
     "end_time": "2023-06-23T05:16:26.224381Z",
     "start_time": "2023-06-23T05:16:26.220598Z"
    }
   },
   "outputs": [
    {
     "data": {
      "text/plain": [
       "tuple"
      ]
     },
     "execution_count": 32,
     "metadata": {},
     "output_type": "execute_result"
    }
   ],
   "source": [
    "type(test11())"
   ]
  },
  {
   "cell_type": "code",
   "execution_count": 33,
   "id": "ea735d67-ecc0-408c-8f0b-a475ebcb66e4",
   "metadata": {
    "ExecuteTime": {
     "end_time": "2023-06-23T05:16:30.554139Z",
     "start_time": "2023-06-23T05:16:30.550249Z"
    }
   },
   "outputs": [
    {
     "data": {
      "text/plain": [
       "(1, 2, 3)"
      ]
     },
     "execution_count": 33,
     "metadata": {},
     "output_type": "execute_result"
    }
   ],
   "source": [
    "test11(1,2,3)"
   ]
  },
  {
   "cell_type": "code",
   "execution_count": 34,
   "id": "20a0ddd7-14fe-4513-aab0-60d6997ff4f0",
   "metadata": {
    "ExecuteTime": {
     "end_time": "2023-06-23T05:16:36.607277Z",
     "start_time": "2023-06-23T05:16:36.602826Z"
    }
   },
   "outputs": [
    {
     "data": {
      "text/plain": [
       "(1, 2, 3, 'sudh', 'kumar', [1, 2, 3, 4, 4])"
      ]
     },
     "execution_count": 34,
     "metadata": {},
     "output_type": "execute_result"
    }
   ],
   "source": [
    "test11(1,2,3,\"sudh\" , \"kumar\" , [1,2,3,4,4])"
   ]
  },
  {
   "cell_type": "code",
   "execution_count": 35,
   "id": "c60e2ace-6e0a-44d6-bffc-341d7d33fe6e",
   "metadata": {
    "ExecuteTime": {
     "end_time": "2023-06-23T05:16:51.099332Z",
     "start_time": "2023-06-23T05:16:51.096688Z"
    }
   },
   "outputs": [],
   "source": [
    "def test12(*sudh):\n",
    "    return sudh"
   ]
  },
  {
   "cell_type": "code",
   "execution_count": 36,
   "id": "44c1fd83-a686-4ff5-8e0d-b9857adefb39",
   "metadata": {
    "ExecuteTime": {
     "end_time": "2023-06-23T05:16:52.288686Z",
     "start_time": "2023-06-23T05:16:52.284557Z"
    }
   },
   "outputs": [
    {
     "data": {
      "text/plain": [
       "(1, 2, 34, 4)"
      ]
     },
     "execution_count": 36,
     "metadata": {},
     "output_type": "execute_result"
    }
   ],
   "source": [
    "test12(1,2,34,4)"
   ]
  },
  {
   "cell_type": "code",
   "execution_count": 42,
   "id": "d82b6432-99b9-4d0f-927e-d0ec64766f96",
   "metadata": {
    "ExecuteTime": {
     "end_time": "2023-06-23T06:05:00.823838Z",
     "start_time": "2023-06-23T06:05:00.821140Z"
    }
   },
   "outputs": [],
   "source": [
    "def test13(*args , a) : # * is to indicate multiple inputs \n",
    "    return args , a "
   ]
  },
  {
   "cell_type": "code",
   "execution_count": 43,
   "id": "532b4d3b-393c-4530-a6ac-822c5772e382",
   "metadata": {
    "ExecuteTime": {
     "end_time": "2023-06-23T06:05:01.304204Z",
     "start_time": "2023-06-23T06:05:01.297335Z"
    }
   },
   "outputs": [
    {
     "ename": "TypeError",
     "evalue": "test13() missing 1 required keyword-only argument: 'a'",
     "output_type": "error",
     "traceback": [
      "\u001b[0;31m---------------------------------------------------------------------------\u001b[0m",
      "\u001b[0;31mTypeError\u001b[0m                                 Traceback (most recent call last)",
      "\u001b[0;32m<ipython-input-43-6010a42f1c09>\u001b[0m in \u001b[0;36m<module>\u001b[0;34m\u001b[0m\n\u001b[0;32m----> 1\u001b[0;31m \u001b[0mtest13\u001b[0m\u001b[0;34m(\u001b[0m\u001b[0;36m1\u001b[0m\u001b[0;34m,\u001b[0m\u001b[0;36m2\u001b[0m\u001b[0;34m,\u001b[0m\u001b[0;36m3\u001b[0m\u001b[0;34m,\u001b[0m\u001b[0;36m4\u001b[0m\u001b[0;34m)\u001b[0m\u001b[0;34m\u001b[0m\u001b[0;34m\u001b[0m\u001b[0m\n\u001b[0m",
      "\u001b[0;31mTypeError\u001b[0m: test13() missing 1 required keyword-only argument: 'a'"
     ]
    }
   ],
   "source": [
    "test13(1,2,3,4)"
   ]
  },
  {
   "cell_type": "code",
   "execution_count": 44,
   "id": "d9e41366-c873-4b35-a541-6091513ee6a2",
   "metadata": {
    "ExecuteTime": {
     "end_time": "2023-06-23T06:05:02.008689Z",
     "start_time": "2023-06-23T06:05:02.004513Z"
    }
   },
   "outputs": [
    {
     "data": {
      "text/plain": [
       "((1, 2, 3, 4), 23)"
      ]
     },
     "execution_count": 44,
     "metadata": {},
     "output_type": "execute_result"
    }
   ],
   "source": [
    "test13(1,2,3,4 , a = 23)"
   ]
  },
  {
   "cell_type": "code",
   "execution_count": 45,
   "id": "c8bd43d0-65b3-43cc-80c9-7918495d6f90",
   "metadata": {
    "ExecuteTime": {
     "end_time": "2023-06-23T06:05:02.849422Z",
     "start_time": "2023-06-23T06:05:02.846448Z"
    }
   },
   "outputs": [],
   "source": [
    "def test14(c,d,a = 23 , b = 1 ):\n",
    "    return a,b,c,d"
   ]
  },
  {
   "cell_type": "code",
   "execution_count": 46,
   "id": "512ff5d5-278a-4920-9c4c-e0e82fd4cd56",
   "metadata": {
    "ExecuteTime": {
     "end_time": "2023-06-23T06:05:03.626168Z",
     "start_time": "2023-06-23T06:05:03.619710Z"
    }
   },
   "outputs": [
    {
     "ename": "TypeError",
     "evalue": "test14() missing 2 required positional arguments: 'c' and 'd'",
     "output_type": "error",
     "traceback": [
      "\u001b[0;31m---------------------------------------------------------------------------\u001b[0m",
      "\u001b[0;31mTypeError\u001b[0m                                 Traceback (most recent call last)",
      "\u001b[0;32m<ipython-input-46-c7ff4ccd62ad>\u001b[0m in \u001b[0;36m<module>\u001b[0;34m\u001b[0m\n\u001b[0;32m----> 1\u001b[0;31m \u001b[0mtest14\u001b[0m\u001b[0;34m(\u001b[0m\u001b[0;34m)\u001b[0m\u001b[0;34m\u001b[0m\u001b[0;34m\u001b[0m\u001b[0m\n\u001b[0m",
      "\u001b[0;31mTypeError\u001b[0m: test14() missing 2 required positional arguments: 'c' and 'd'"
     ]
    }
   ],
   "source": [
    "test14()"
   ]
  },
  {
   "cell_type": "code",
   "execution_count": 47,
   "id": "e4928bdf-e18f-46dc-bda6-2ab0a48c1e99",
   "metadata": {
    "ExecuteTime": {
     "end_time": "2023-06-23T06:05:32.651495Z",
     "start_time": "2023-06-23T06:05:32.647339Z"
    }
   },
   "outputs": [
    {
     "data": {
      "text/plain": [
       "(23, 1, 3, 4)"
      ]
     },
     "execution_count": 47,
     "metadata": {},
     "output_type": "execute_result"
    }
   ],
   "source": [
    "test14(3,4)"
   ]
  },
  {
   "cell_type": "code",
   "execution_count": 48,
   "id": "ff9696dc-b671-42d5-a850-0c683ba07c70",
   "metadata": {
    "ExecuteTime": {
     "end_time": "2023-06-23T06:05:33.173312Z",
     "start_time": "2023-06-23T06:05:33.169526Z"
    }
   },
   "outputs": [
    {
     "data": {
      "text/plain": [
       "(2342, 1, 2, 5)"
      ]
     },
     "execution_count": 48,
     "metadata": {},
     "output_type": "execute_result"
    }
   ],
   "source": [
    "test14(2,5 , a = 2342)"
   ]
  },
  {
   "cell_type": "code",
   "execution_count": 50,
   "id": "f53a6621-7767-4b19-a24b-03e72c765bd6",
   "metadata": {
    "ExecuteTime": {
     "end_time": "2023-06-23T06:08:07.319971Z",
     "start_time": "2023-06-23T06:08:07.317243Z"
    }
   },
   "outputs": [],
   "source": [
    "def test15(**kwargs): # returns key-valuep pairs\n",
    "    return kwargs"
   ]
  },
  {
   "cell_type": "code",
   "execution_count": 51,
   "id": "d7f366d5-596d-4f6c-ab91-19979a3edad9",
   "metadata": {
    "ExecuteTime": {
     "end_time": "2023-06-23T06:08:07.512792Z",
     "start_time": "2023-06-23T06:08:07.509466Z"
    }
   },
   "outputs": [
    {
     "data": {
      "text/plain": [
       "{}"
      ]
     },
     "execution_count": 51,
     "metadata": {},
     "output_type": "execute_result"
    }
   ],
   "source": [
    "test15()"
   ]
  },
  {
   "cell_type": "code",
   "execution_count": 52,
   "id": "31226fd4-dada-46cc-ae00-2d2888a0b613",
   "metadata": {
    "ExecuteTime": {
     "end_time": "2023-06-23T06:08:07.725562Z",
     "start_time": "2023-06-23T06:08:07.722115Z"
    }
   },
   "outputs": [
    {
     "data": {
      "text/plain": [
       "dict"
      ]
     },
     "execution_count": 52,
     "metadata": {},
     "output_type": "execute_result"
    }
   ],
   "source": [
    "type(test15()) # returns dict normally it's tuple "
   ]
  },
  {
   "cell_type": "code",
   "execution_count": 53,
   "id": "83be2ee6-664c-4916-8668-b9525b08353a",
   "metadata": {
    "ExecuteTime": {
     "end_time": "2023-06-23T06:08:08.711029Z",
     "start_time": "2023-06-23T06:08:08.706921Z"
    }
   },
   "outputs": [
    {
     "data": {
      "text/plain": [
       "{'a': [1, 2, 3, 4], 'b': 'sudh', 'c': 23.45}"
      ]
     },
     "execution_count": 53,
     "metadata": {},
     "output_type": "execute_result"
    }
   ],
   "source": [
    "test15(a = [1,2,3,4] , b = \"sudh\" , c = 23.45 )"
   ]
  },
  {
   "cell_type": "code",
   "execution_count": null,
   "id": "82974b41-4f30-43c0-a2a2-3f2cc7f3d36d",
   "metadata": {},
   "outputs": [],
   "source": []
  }
 ],
 "metadata": {
  "hide_input": false,
  "kernelspec": {
   "display_name": "Python 3",
   "language": "python",
   "name": "python3"
  },
  "language_info": {
   "codemirror_mode": {
    "name": "ipython",
    "version": 3
   },
   "file_extension": ".py",
   "mimetype": "text/x-python",
   "name": "python",
   "nbconvert_exporter": "python",
   "pygments_lexer": "ipython3",
   "version": "3.6.8"
  },
  "toc": {
   "base_numbering": 1,
   "nav_menu": {},
   "number_sections": true,
   "sideBar": true,
   "skip_h1_title": true,
   "title_cell": "Table of Contents",
   "title_sidebar": "Contents",
   "toc_cell": false,
   "toc_position": {},
   "toc_section_display": true,
   "toc_window_display": true
  },
  "varInspector": {
   "cols": {
    "lenName": 16,
    "lenType": 16,
    "lenVar": 40
   },
   "kernels_config": {
    "python": {
     "delete_cmd_postfix": "",
     "delete_cmd_prefix": "del ",
     "library": "var_list.py",
     "varRefreshCmd": "print(var_dic_list())"
    },
    "r": {
     "delete_cmd_postfix": ") ",
     "delete_cmd_prefix": "rm(",
     "library": "var_list.r",
     "varRefreshCmd": "cat(var_dic_list()) "
    }
   },
   "types_to_exclude": [
    "module",
    "function",
    "builtin_function_or_method",
    "instance",
    "_Feature"
   ],
   "window_display": false
  }
 },
 "nbformat": 4,
 "nbformat_minor": 5
}
