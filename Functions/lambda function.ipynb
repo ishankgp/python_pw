{
 "cells": [
  {
   "cell_type": "code",
   "execution_count": 1,
   "id": "9c3a194c-d024-46e6-aa63-3fb324a4d0b5",
   "metadata": {
    "ExecuteTime": {
     "end_time": "2023-06-23T19:33:51.608237Z",
     "start_time": "2023-06-23T19:33:51.605503Z"
    }
   },
   "outputs": [],
   "source": [
    "n = 3\n",
    "p = 2"
   ]
  },
  {
   "cell_type": "code",
   "execution_count": 2,
   "id": "bec8c526-96a7-4d69-abb5-0d6551308987",
   "metadata": {
    "ExecuteTime": {
     "end_time": "2023-06-23T19:33:52.026199Z",
     "start_time": "2023-06-23T19:33:52.023525Z"
    }
   },
   "outputs": [],
   "source": [
    "def test(n,p):\n",
    "    return n**p"
   ]
  },
  {
   "cell_type": "code",
   "execution_count": 3,
   "id": "24f8e234-4d6b-4496-8506-4585fc4953f6",
   "metadata": {
    "ExecuteTime": {
     "end_time": "2023-06-23T19:33:52.418620Z",
     "start_time": "2023-06-23T19:33:52.409829Z"
    }
   },
   "outputs": [
    {
     "data": {
      "text/plain": [
       "9"
      ]
     },
     "execution_count": 3,
     "metadata": {},
     "output_type": "execute_result"
    }
   ],
   "source": [
    "test(3,2)"
   ]
  },
  {
   "cell_type": "code",
   "execution_count": 4,
   "id": "a935973c-31d9-4813-b642-c694052b9649",
   "metadata": {
    "ExecuteTime": {
     "end_time": "2023-06-23T19:34:48.674913Z",
     "start_time": "2023-06-23T19:34:48.672051Z"
    }
   },
   "outputs": [],
   "source": [
    "# same function to be written as lambda function\n",
    "\n",
    "a = lambda n, p :n**p #( input n,p : output n**p)"
   ]
  },
  {
   "cell_type": "code",
   "execution_count": 5,
   "id": "8c8be7db-9f32-4a98-946a-91d03615b7e4",
   "metadata": {
    "ExecuteTime": {
     "end_time": "2023-06-23T19:34:49.316656Z",
     "start_time": "2023-06-23T19:34:49.312664Z"
    }
   },
   "outputs": [
    {
     "data": {
      "text/plain": [
       "9"
      ]
     },
     "execution_count": 5,
     "metadata": {},
     "output_type": "execute_result"
    }
   ],
   "source": [
    "a(3,2)"
   ]
  },
  {
   "cell_type": "code",
   "execution_count": 6,
   "id": "ff919513-7038-4195-8970-f8a7b6cdba9b",
   "metadata": {
    "ExecuteTime": {
     "end_time": "2023-06-23T19:34:52.402891Z",
     "start_time": "2023-06-23T19:34:52.400196Z"
    }
   },
   "outputs": [],
   "source": [
    "add = lambda x,y : x+y "
   ]
  },
  {
   "cell_type": "code",
   "execution_count": 7,
   "id": "4b977339-897e-44c9-b0fc-b98afd79c14a",
   "metadata": {
    "ExecuteTime": {
     "end_time": "2023-06-23T19:34:54.013229Z",
     "start_time": "2023-06-23T19:34:54.009400Z"
    }
   },
   "outputs": [
    {
     "data": {
      "text/plain": [
       "9"
      ]
     },
     "execution_count": 7,
     "metadata": {},
     "output_type": "execute_result"
    }
   ],
   "source": [
    "add(4,5)"
   ]
  },
  {
   "cell_type": "code",
   "execution_count": 8,
   "id": "cc847307-9bd8-450e-a685-709777f06422",
   "metadata": {
    "ExecuteTime": {
     "end_time": "2023-06-23T19:34:55.601447Z",
     "start_time": "2023-06-23T19:34:55.598688Z"
    }
   },
   "outputs": [],
   "source": [
    "c_to_f = lambda c : (9/5)*c + 32"
   ]
  },
  {
   "cell_type": "code",
   "execution_count": 9,
   "id": "68ccbaa2-f6ae-4a8f-b9de-17737f6a90aa",
   "metadata": {
    "ExecuteTime": {
     "end_time": "2023-06-23T19:35:06.187148Z",
     "start_time": "2023-06-23T19:35:06.183436Z"
    }
   },
   "outputs": [
    {
     "data": {
      "text/plain": [
       "113.0"
      ]
     },
     "execution_count": 9,
     "metadata": {},
     "output_type": "execute_result"
    }
   ],
   "source": [
    "c_to_f(45)"
   ]
  },
  {
   "cell_type": "code",
   "execution_count": 10,
   "id": "5843f821-b5e9-4885-a409-1c625012798e",
   "metadata": {
    "ExecuteTime": {
     "end_time": "2023-06-23T19:35:06.577397Z",
     "start_time": "2023-06-23T19:35:06.574717Z"
    }
   },
   "outputs": [],
   "source": [
    "finding_max = lambda x,y : x if x>y else y "
   ]
  },
  {
   "cell_type": "code",
   "execution_count": 11,
   "id": "07f8dc43-cc7a-4bfb-8a0e-aef26888a459",
   "metadata": {
    "ExecuteTime": {
     "end_time": "2023-06-23T19:35:07.107254Z",
     "start_time": "2023-06-23T19:35:07.103771Z"
    }
   },
   "outputs": [
    {
     "data": {
      "text/plain": [
       "34"
      ]
     },
     "execution_count": 11,
     "metadata": {},
     "output_type": "execute_result"
    }
   ],
   "source": [
    "finding_max(34,23)"
   ]
  },
  {
   "cell_type": "code",
   "execution_count": 12,
   "id": "c0271b52-9f3a-4893-9d08-54c82ce55b32",
   "metadata": {
    "ExecuteTime": {
     "end_time": "2023-06-23T19:35:08.915121Z",
     "start_time": "2023-06-23T19:35:08.912602Z"
    }
   },
   "outputs": [],
   "source": [
    "s = \"pwskills\""
   ]
  },
  {
   "cell_type": "code",
   "execution_count": 22,
   "id": "ecd5c22f-16e0-44f2-9bb9-69671845bd40",
   "metadata": {},
   "outputs": [],
   "source": [
    "find_len = lambda s : len(s)"
   ]
  },
  {
   "cell_type": "code",
   "execution_count": 23,
   "id": "6bcc463d-8016-4545-b859-a9ee2e723f2a",
   "metadata": {},
   "outputs": [
    {
     "data": {
      "text/plain": [
       "8"
      ]
     },
     "execution_count": 23,
     "metadata": {},
     "output_type": "execute_result"
    }
   ],
   "source": [
    "find_len(s)"
   ]
  },
  {
   "cell_type": "code",
   "execution_count": null,
   "id": "828cd14b-1784-4033-8478-37d8e16f51cb",
   "metadata": {},
   "outputs": [],
   "source": []
  }
 ],
 "metadata": {
  "hide_input": false,
  "kernelspec": {
   "display_name": "Python 3",
   "language": "python",
   "name": "python3"
  },
  "language_info": {
   "codemirror_mode": {
    "name": "ipython",
    "version": 3
   },
   "file_extension": ".py",
   "mimetype": "text/x-python",
   "name": "python",
   "nbconvert_exporter": "python",
   "pygments_lexer": "ipython3",
   "version": "3.6.8"
  },
  "toc": {
   "base_numbering": 1,
   "nav_menu": {},
   "number_sections": true,
   "sideBar": true,
   "skip_h1_title": true,
   "title_cell": "Table of Contents",
   "title_sidebar": "Contents",
   "toc_cell": false,
   "toc_position": {},
   "toc_section_display": true,
   "toc_window_display": true
  },
  "varInspector": {
   "cols": {
    "lenName": 16,
    "lenType": 16,
    "lenVar": 40
   },
   "kernels_config": {
    "python": {
     "delete_cmd_postfix": "",
     "delete_cmd_prefix": "del ",
     "library": "var_list.py",
     "varRefreshCmd": "print(var_dic_list())"
    },
    "r": {
     "delete_cmd_postfix": ") ",
     "delete_cmd_prefix": "rm(",
     "library": "var_list.r",
     "varRefreshCmd": "cat(var_dic_list()) "
    }
   },
   "types_to_exclude": [
    "module",
    "function",
    "builtin_function_or_method",
    "instance",
    "_Feature"
   ],
   "window_display": false
  }
 },
 "nbformat": 4,
 "nbformat_minor": 5
}
