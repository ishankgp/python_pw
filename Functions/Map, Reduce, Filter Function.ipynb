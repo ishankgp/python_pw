{
 "cells": [
  {
   "cell_type": "code",
   "execution_count": 1,
   "id": "6527aecd-6a31-4f31-b825-7a09bfae7f3b",
   "metadata": {
    "ExecuteTime": {
     "end_time": "2023-06-23T20:43:44.319999Z",
     "start_time": "2023-06-23T20:43:44.317053Z"
    }
   },
   "outputs": [],
   "source": [
    "l = [2,3,4,5,6]"
   ]
  },
  {
   "cell_type": "code",
   "execution_count": 2,
   "id": "3303fb64-4639-4bc1-83b5-3ffa129ee739",
   "metadata": {
    "ExecuteTime": {
     "end_time": "2023-06-23T20:43:44.527727Z",
     "start_time": "2023-06-23T20:43:44.524724Z"
    }
   },
   "outputs": [],
   "source": [
    "def test(l):\n",
    "    l1 = []\n",
    "    for i in l :\n",
    "        l1.append(i**2)\n",
    "    return l1\n",
    "        "
   ]
  },
  {
   "cell_type": "code",
   "execution_count": 3,
   "id": "1982b992-0ab7-44ae-9d2d-6a6714fd6936",
   "metadata": {
    "ExecuteTime": {
     "end_time": "2023-06-23T20:43:44.701163Z",
     "start_time": "2023-06-23T20:43:44.693066Z"
    }
   },
   "outputs": [
    {
     "data": {
      "text/plain": [
       "[4, 9, 16, 25, 36]"
      ]
     },
     "execution_count": 3,
     "metadata": {},
     "output_type": "execute_result"
    }
   ],
   "source": [
    "test(l)"
   ]
  },
  {
   "cell_type": "code",
   "execution_count": 4,
   "id": "cd2a0d23-f72d-45e4-995c-e5f603dd5357",
   "metadata": {
    "ExecuteTime": {
     "end_time": "2023-06-23T20:43:44.881833Z",
     "start_time": "2023-06-23T20:43:44.879251Z"
    }
   },
   "outputs": [],
   "source": [
    "def sq(x):\n",
    "    return x**2"
   ]
  },
  {
   "cell_type": "code",
   "execution_count": 5,
   "id": "9030119e-6114-4b43-ac40-d864d240e67c",
   "metadata": {
    "ExecuteTime": {
     "end_time": "2023-06-23T20:43:45.058825Z",
     "start_time": "2023-06-23T20:43:45.055137Z"
    }
   },
   "outputs": [
    {
     "data": {
      "text/plain": [
       "[4, 9, 16, 25, 36]"
      ]
     },
     "execution_count": 5,
     "metadata": {},
     "output_type": "execute_result"
    }
   ],
   "source": [
    "list(map(sq , l)) # map functions takes 2 args - 1 function , 2 - iterable . will iterate through all elements and                         pass to function )"
   ]
  },
  {
   "cell_type": "code",
   "execution_count": 8,
   "id": "b9a14de5-64e8-4bff-80ea-3f210d7e9fdf",
   "metadata": {
    "ExecuteTime": {
     "end_time": "2023-06-23T21:12:47.428467Z",
     "start_time": "2023-06-23T21:12:47.423936Z"
    }
   },
   "outputs": [
    {
     "data": {
      "text/plain": [
       "[4, 9, 16, 25, 36]"
      ]
     },
     "execution_count": 8,
     "metadata": {},
     "output_type": "execute_result"
    }
   ],
   "source": [
    "list(map(lambda x : x**2 , l)) # for simle function use lambda , if logic is complex use external function like sq"
   ]
  },
  {
   "cell_type": "code",
   "execution_count": 9,
   "id": "659b3e16-3dc5-4147-939c-bd6d87ca6730",
   "metadata": {
    "ExecuteTime": {
     "end_time": "2023-06-23T21:12:48.273364Z",
     "start_time": "2023-06-23T21:12:48.268730Z"
    }
   },
   "outputs": [
    {
     "data": {
      "text/plain": [
       "[7, 9, 11, 13, 15]"
      ]
     },
     "execution_count": 9,
     "metadata": {},
     "output_type": "execute_result"
    }
   ],
   "source": [
    "l1 = [1,2,3,4,5]\n",
    "l2 = [6,7,8,9,10]\n",
    "\n",
    "list(map(lambda x , y : x+y , l1 , l2 ))"
   ]
  },
  {
   "cell_type": "code",
   "execution_count": 10,
   "id": "2ff63811-e566-4d2d-a1a3-cad4d325ed72",
   "metadata": {
    "ExecuteTime": {
     "end_time": "2023-06-23T21:12:48.488072Z",
     "start_time": "2023-06-23T21:12:48.485550Z"
    }
   },
   "outputs": [],
   "source": [
    "def add(x,y) :\n",
    "    return x+y"
   ]
  },
  {
   "cell_type": "code",
   "execution_count": 11,
   "id": "3d9be8d7-4914-4fc8-8d5a-57fb5078ad83",
   "metadata": {
    "ExecuteTime": {
     "end_time": "2023-06-23T21:12:48.669749Z",
     "start_time": "2023-06-23T21:12:48.666287Z"
    }
   },
   "outputs": [
    {
     "data": {
      "text/plain": [
       "[7, 9, 11, 13, 15]"
      ]
     },
     "execution_count": 11,
     "metadata": {},
     "output_type": "execute_result"
    }
   ],
   "source": [
    "list(map(add , l1 , l2 ))"
   ]
  },
  {
   "cell_type": "code",
   "execution_count": 12,
   "id": "947f0e74-33c4-4e76-a120-2e1027c163e9",
   "metadata": {
    "ExecuteTime": {
     "end_time": "2023-06-23T21:12:48.882052Z",
     "start_time": "2023-06-23T21:12:48.878206Z"
    }
   },
   "outputs": [
    {
     "data": {
      "text/plain": [
       "['P', 'W', 'S', 'K', 'I', 'L', 'L', 'S']"
      ]
     },
     "execution_count": 12,
     "metadata": {},
     "output_type": "execute_result"
    }
   ],
   "source": [
    "s = \"pwskills\"\n",
    "list(map(lambda s : s.upper() , s))\n"
   ]
  },
  {
   "cell_type": "code",
   "execution_count": 13,
   "id": "35c83c12-f7ec-4006-bf38-a1a396c9e04f",
   "metadata": {
    "ExecuteTime": {
     "end_time": "2023-06-23T21:12:49.836781Z",
     "start_time": "2023-06-23T21:12:49.833990Z"
    }
   },
   "outputs": [],
   "source": [
    "from functools import  reduce # have to be called "
   ]
  },
  {
   "cell_type": "code",
   "execution_count": 14,
   "id": "f2145d14-2849-4bfe-bf84-daebd8a61142",
   "metadata": {
    "ExecuteTime": {
     "end_time": "2023-06-23T21:12:50.873008Z",
     "start_time": "2023-06-23T21:12:50.870178Z"
    }
   },
   "outputs": [],
   "source": [
    "l = [1,2,3,3,4,5]"
   ]
  },
  {
   "cell_type": "code",
   "execution_count": 18,
   "id": "145c02ae-51b5-448e-9d6e-8f06360ad318",
   "metadata": {
    "ExecuteTime": {
     "end_time": "2023-06-23T21:14:20.400360Z",
     "start_time": "2023-06-23T21:14:20.396647Z"
    }
   },
   "outputs": [
    {
     "data": {
      "text/plain": [
       "18"
      ]
     },
     "execution_count": 18,
     "metadata": {},
     "output_type": "execute_result"
    }
   ],
   "source": [
    "reduce(lambda x ,y : x+y , l)\n",
    "\n",
    "# Apply a function of two arguments cumulatively to the items of a sequence,\n",
    "# from left to right, so as to reduce the sequence to a single value.\n",
    "# For example, reduce(lambda x, y: x+y, [1, 2, 3, 4, 5]) calculates\n",
    "# ((((1+2)+3)+4)+5).  If initial is present, it is placed before the items\n",
    "# of the sequence in the calculation, and serves as a default when the\n",
    "#sequence is empty. //"
   ]
  },
  {
   "cell_type": "code",
   "execution_count": 16,
   "id": "34470b0c-4628-4d34-8b77-8f3bcf70c1f3",
   "metadata": {},
   "outputs": [
    {
     "ename": "TypeError",
     "evalue": "<lambda>() missing 1 required positional argument: 'z'",
     "output_type": "error",
     "traceback": [
      "\u001b[0;31m---------------------------------------------------------------------------\u001b[0m",
      "\u001b[0;31mTypeError\u001b[0m                                 Traceback (most recent call last)",
      "Cell \u001b[0;32mIn[16], line 1\u001b[0m\n\u001b[0;32m----> 1\u001b[0m \u001b[43mreduce\u001b[49m\u001b[43m(\u001b[49m\u001b[38;5;28;43;01mlambda\u001b[39;49;00m\u001b[43m \u001b[49m\u001b[43mx\u001b[49m\u001b[43m \u001b[49m\u001b[43m,\u001b[49m\u001b[43my\u001b[49m\u001b[43m \u001b[49m\u001b[43m,\u001b[49m\u001b[43mz\u001b[49m\u001b[43m \u001b[49m\u001b[43m:\u001b[49m\u001b[43m \u001b[49m\u001b[43mx\u001b[49m\u001b[38;5;241;43m+\u001b[39;49m\u001b[43my\u001b[49m\u001b[38;5;241;43m+\u001b[39;49m\u001b[43mz\u001b[49m\u001b[43m \u001b[49m\u001b[43m,\u001b[49m\u001b[43m \u001b[49m\u001b[43ml\u001b[49m\u001b[43m)\u001b[49m\n",
      "\u001b[0;31mTypeError\u001b[0m: <lambda>() missing 1 required positional argument: 'z'"
     ]
    }
   ],
   "source": [
    "reduce(lambda x ,y ,z : x+y+z , l) # can't have 3 elements x,y,and z "
   ]
  },
  {
   "cell_type": "code",
   "execution_count": 19,
   "id": "b642a904-6bba-47ce-9227-3f056ae66c63",
   "metadata": {
    "ExecuteTime": {
     "end_time": "2023-06-23T21:38:42.598673Z",
     "start_time": "2023-06-23T21:38:42.590308Z"
    }
   },
   "outputs": [
    {
     "ename": "TypeError",
     "evalue": "reduce() of empty sequence with no initial value",
     "output_type": "error",
     "traceback": [
      "\u001b[0;31m---------------------------------------------------------------------------\u001b[0m",
      "\u001b[0;31mTypeError\u001b[0m                                 Traceback (most recent call last)",
      "\u001b[0;32m<ipython-input-19-f6d6cf4720b6>\u001b[0m in \u001b[0;36m<module>\u001b[0;34m\u001b[0m\n\u001b[0;32m----> 1\u001b[0;31m \u001b[0mreduce\u001b[0m\u001b[0;34m(\u001b[0m\u001b[0;32mlambda\u001b[0m \u001b[0mx\u001b[0m \u001b[0;34m,\u001b[0m\u001b[0my\u001b[0m \u001b[0;34m:\u001b[0m \u001b[0mx\u001b[0m\u001b[0;34m+\u001b[0m\u001b[0my\u001b[0m \u001b[0;34m,\u001b[0m \u001b[0;34m[\u001b[0m\u001b[0;34m]\u001b[0m\u001b[0;34m)\u001b[0m\u001b[0;34m\u001b[0m\u001b[0;34m\u001b[0m\u001b[0m\n\u001b[0m",
      "\u001b[0;31mTypeError\u001b[0m: reduce() of empty sequence with no initial value"
     ]
    }
   ],
   "source": [
    "reduce(lambda x ,y : x+y , [])"
   ]
  },
  {
   "cell_type": "code",
   "execution_count": 20,
   "id": "7d590f23-1c3f-4c93-8aeb-d47ccdea4e20",
   "metadata": {
    "ExecuteTime": {
     "end_time": "2023-06-23T21:38:43.648485Z",
     "start_time": "2023-06-23T21:38:43.644393Z"
    }
   },
   "outputs": [
    {
     "data": {
      "text/plain": [
       "1"
      ]
     },
     "execution_count": 20,
     "metadata": {},
     "output_type": "execute_result"
    }
   ],
   "source": [
    "reduce(lambda x ,y : x+y , [1])"
   ]
  },
  {
   "cell_type": "code",
   "execution_count": 21,
   "id": "3bfe9082-d65b-4ad4-8e73-6ea9434a2c21",
   "metadata": {
    "ExecuteTime": {
     "end_time": "2023-06-23T21:38:50.031581Z",
     "start_time": "2023-06-23T21:38:50.027529Z"
    }
   },
   "outputs": [
    {
     "data": {
      "text/plain": [
       "360"
      ]
     },
     "execution_count": 21,
     "metadata": {},
     "output_type": "execute_result"
    }
   ],
   "source": [
    "reduce(lambda x ,y : x*y , l)"
   ]
  },
  {
   "cell_type": "code",
   "execution_count": 20,
   "id": "b3b698c6-a059-4851-8aae-d5d96ff80e01",
   "metadata": {},
   "outputs": [
    {
     "data": {
      "text/plain": [
       "[1, 2, 3, 3, 4, 5]"
      ]
     },
     "execution_count": 20,
     "metadata": {},
     "output_type": "execute_result"
    }
   ],
   "source": [
    "l"
   ]
  },
  {
   "cell_type": "code",
   "execution_count": 22,
   "id": "50a48126-0ab9-4f82-a95d-1e39dc3c190b",
   "metadata": {
    "ExecuteTime": {
     "end_time": "2023-06-23T21:39:38.233965Z",
     "start_time": "2023-06-23T21:39:38.229341Z"
    }
   },
   "outputs": [
    {
     "data": {
      "text/plain": [
       "5"
      ]
     },
     "execution_count": 22,
     "metadata": {},
     "output_type": "execute_result"
    }
   ],
   "source": [
    "reduce(lambda x,y :x if x > y else y , l ) #interesting use case "
   ]
  },
  {
   "cell_type": "code",
   "execution_count": 25,
   "id": "d77f7b09-3863-4e10-9976-a54a74a92a01",
   "metadata": {
    "ExecuteTime": {
     "end_time": "2023-06-23T21:39:46.834415Z",
     "start_time": "2023-06-23T21:39:46.830423Z"
    }
   },
   "outputs": [
    {
     "data": {
      "text/plain": [
       "[1, 2, 3, 3, 4, 5]"
      ]
     },
     "execution_count": 25,
     "metadata": {},
     "output_type": "execute_result"
    }
   ],
   "source": [
    "l "
   ]
  },
  {
   "cell_type": "code",
   "execution_count": 24,
   "id": "46bb15c5-f45b-4bd7-a985-db06b147bde2",
   "metadata": {},
   "outputs": [
    {
     "data": {
      "text/plain": [
       "[2, 4]"
      ]
     },
     "execution_count": 24,
     "metadata": {},
     "output_type": "execute_result"
    }
   ],
   "source": [
    "list(filter(lambda x : x % 2 == 0 , l))"
   ]
  },
  {
   "cell_type": "code",
   "execution_count": 25,
   "id": "d4a6d5a8-e1fd-4842-a178-27ec9243c148",
   "metadata": {},
   "outputs": [
    {
     "data": {
      "text/plain": [
       "[1, 3, 3, 5]"
      ]
     },
     "execution_count": 25,
     "metadata": {},
     "output_type": "execute_result"
    }
   ],
   "source": [
    "list(filter(lambda x : x % 2 != 0 , l))"
   ]
  },
  {
   "cell_type": "code",
   "execution_count": 26,
   "id": "9fc95878-661c-4475-aa69-82adb5c45152",
   "metadata": {},
   "outputs": [],
   "source": [
    "l1 = [-3,4,5,6,-1,-5]"
   ]
  },
  {
   "cell_type": "code",
   "execution_count": 28,
   "id": "f6213819-b89e-4259-ab39-c524bcfeb0fd",
   "metadata": {},
   "outputs": [
    {
     "data": {
      "text/plain": [
       "[-3, -1, -5]"
      ]
     },
     "execution_count": 28,
     "metadata": {},
     "output_type": "execute_result"
    }
   ],
   "source": [
    "list(filter(lambda x : x<0 , l1 ))"
   ]
  },
  {
   "cell_type": "code",
   "execution_count": 29,
   "id": "f2915704-d6e3-40a0-bc33-e8d3744bab65",
   "metadata": {},
   "outputs": [],
   "source": [
    "l2 = [\"sudh\"  , \"pwskills\" , \"kumar\" , \"bengalore\" , \"krish\"]"
   ]
  },
  {
   "cell_type": "code",
   "execution_count": 30,
   "id": "6af36803-6ca2-4639-9c14-c6134d812fb7",
   "metadata": {},
   "outputs": [
    {
     "data": {
      "text/plain": [
       "['sudh', 'kumar', 'krish']"
      ]
     },
     "execution_count": 30,
     "metadata": {},
     "output_type": "execute_result"
    }
   ],
   "source": [
    "list(filter(lambda x : len(x) <6 , l2))"
   ]
  },
  {
   "cell_type": "code",
   "execution_count": null,
   "id": "3e291523-7f93-496f-a32a-c92e44b38abf",
   "metadata": {},
   "outputs": [],
   "source": []
  }
 ],
 "metadata": {
  "hide_input": false,
  "kernelspec": {
   "display_name": "Python 3",
   "language": "python",
   "name": "python3"
  },
  "language_info": {
   "codemirror_mode": {
    "name": "ipython",
    "version": 3
   },
   "file_extension": ".py",
   "mimetype": "text/x-python",
   "name": "python",
   "nbconvert_exporter": "python",
   "pygments_lexer": "ipython3",
   "version": "3.6.8"
  },
  "toc": {
   "base_numbering": 1,
   "nav_menu": {},
   "number_sections": true,
   "sideBar": true,
   "skip_h1_title": true,
   "title_cell": "Table of Contents",
   "title_sidebar": "Contents",
   "toc_cell": false,
   "toc_position": {},
   "toc_section_display": true,
   "toc_window_display": true
  },
  "varInspector": {
   "cols": {
    "lenName": 16,
    "lenType": 16,
    "lenVar": 40
   },
   "kernels_config": {
    "python": {
     "delete_cmd_postfix": "",
     "delete_cmd_prefix": "del ",
     "library": "var_list.py",
     "varRefreshCmd": "print(var_dic_list())"
    },
    "r": {
     "delete_cmd_postfix": ") ",
     "delete_cmd_prefix": "rm(",
     "library": "var_list.r",
     "varRefreshCmd": "cat(var_dic_list()) "
    }
   },
   "types_to_exclude": [
    "module",
    "function",
    "builtin_function_or_method",
    "instance",
    "_Feature"
   ],
   "window_display": false
  }
 },
 "nbformat": 4,
 "nbformat_minor": 5
}
