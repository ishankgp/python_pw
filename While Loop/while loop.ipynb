{
 "cells": [
  {
   "cell_type": "code",
   "execution_count": 5,
   "id": "396ddcea-3d75-4410-8455-a40831f3dccd",
   "metadata": {
    "ExecuteTime": {
     "end_time": "2023-06-23T03:40:05.288967Z",
     "start_time": "2023-06-23T03:40:01.522482Z"
    }
   },
   "outputs": [
    {
     "name": "stdout",
     "output_type": "stream",
     "text": [
      "enter your number3\n"
     ]
    },
    {
     "data": {
      "text/plain": [
       "6"
      ]
     },
     "execution_count": 5,
     "metadata": {},
     "output_type": "execute_result"
    }
   ],
   "source": [
    "number = int(input(\"enter your number\"))\n",
    "factorial = 1 \n",
    "while number > 0 :   # just note th \":\"\n",
    "    factorial = factorial*number\n",
    "    number = number-1\n",
    "factorial"
   ]
  },
  {
   "cell_type": "code",
   "execution_count": 6,
   "id": "0a60e177-e6a9-4e3e-bedf-dbad56412ceb",
   "metadata": {
    "ExecuteTime": {
     "end_time": "2023-06-23T03:40:07.098691Z",
     "start_time": "2023-06-23T03:40:07.096319Z"
    }
   },
   "outputs": [],
   "source": [
    "#Finonacci series "
   ]
  },
  {
   "cell_type": "code",
   "execution_count": 8,
   "id": "b39c87c4-b01f-454d-a90e-9822b4dc241b",
   "metadata": {
    "ExecuteTime": {
     "end_time": "2023-06-23T03:42:38.667748Z",
     "start_time": "2023-06-23T03:42:38.664901Z"
    }
   },
   "outputs": [],
   "source": [
    "s = \"sudh\""
   ]
  },
  {
   "cell_type": "code",
   "execution_count": 9,
   "id": "a7b9455a-d6ce-4a42-8022-015db54b6f71",
   "metadata": {
    "ExecuteTime": {
     "end_time": "2023-06-23T03:42:39.161521Z",
     "start_time": "2023-06-23T03:42:39.157862Z"
    }
   },
   "outputs": [
    {
     "data": {
      "text/plain": [
       "'hdus'"
      ]
     },
     "execution_count": 9,
     "metadata": {},
     "output_type": "execute_result"
    }
   ],
   "source": [
    "s[::-1]  #note this too"
   ]
  },
  {
   "cell_type": "code",
   "execution_count": 14,
   "id": "07d39aa3-dc96-46a1-83db-f488efc16acd",
   "metadata": {
    "ExecuteTime": {
     "end_time": "2023-06-23T03:45:12.648016Z",
     "start_time": "2023-06-23T03:45:12.644186Z"
    }
   },
   "outputs": [
    {
     "name": "stdout",
     "output_type": "stream",
     "text": [
      "hdus\n"
     ]
    }
   ],
   "source": [
    "word = \"sudh\"\n",
    "reverse = \"\"\n",
    "length = len(word)\n",
    "while length > 0 :\n",
    "    reverse = reverse + word[length -1]\n",
    "    length = length -1\n",
    "print(reverse)\n",
    "    \n"
   ]
  },
  {
   "cell_type": "code",
   "execution_count": null,
   "id": "32f21fa4-c6cf-4110-91e2-6910dee13a38",
   "metadata": {},
   "outputs": [],
   "source": []
  }
 ],
 "metadata": {
  "hide_input": false,
  "kernelspec": {
   "display_name": "Python 3",
   "language": "python",
   "name": "python3"
  },
  "language_info": {
   "codemirror_mode": {
    "name": "ipython",
    "version": 3
   },
   "file_extension": ".py",
   "mimetype": "text/x-python",
   "name": "python",
   "nbconvert_exporter": "python",
   "pygments_lexer": "ipython3",
   "version": "3.6.8"
  },
  "toc": {
   "base_numbering": 1,
   "nav_menu": {},
   "number_sections": true,
   "sideBar": true,
   "skip_h1_title": true,
   "title_cell": "Table of Contents",
   "title_sidebar": "Contents",
   "toc_cell": false,
   "toc_position": {},
   "toc_section_display": true,
   "toc_window_display": true
  },
  "varInspector": {
   "cols": {
    "lenName": 16,
    "lenType": 16,
    "lenVar": 40
   },
   "kernels_config": {
    "python": {
     "delete_cmd_postfix": "",
     "delete_cmd_prefix": "del ",
     "library": "var_list.py",
     "varRefreshCmd": "print(var_dic_list())"
    },
    "r": {
     "delete_cmd_postfix": ") ",
     "delete_cmd_prefix": "rm(",
     "library": "var_list.r",
     "varRefreshCmd": "cat(var_dic_list()) "
    }
   },
   "types_to_exclude": [
    "module",
    "function",
    "builtin_function_or_method",
    "instance",
    "_Feature"
   ],
   "window_display": false
  }
 },
 "nbformat": 4,
 "nbformat_minor": 5
}
